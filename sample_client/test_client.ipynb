{
 "cells": [
  {
   "cell_type": "code",
   "execution_count": 1,
   "metadata": {},
   "outputs": [
    {
     "name": "stdout",
     "output_type": "stream",
     "text": [
      "{'vader': {'neg': 0.0, 'neu': 0.9, 'pos': 0.1, 'compound': 0.273}, 'Logistic': {'neg': 0.121, 'neu': 0.114, 'pos': 0.765}, 'XGBoost': {'neg': 0.126, 'neu': 0.077, 'pos': 0.797}, 'bert': {'neg': 0.0, 'neu': 0.006, 'pos': 0.994}, 'LSTM': {'neg': 0.003, 'neu': 0.013, 'pos': 0.984}}\n",
      "{'vader': {'neg': 0.0, 'neu': 0.851, 'pos': 0.149, 'compound': 0.592}, 'Logistic': {'neg': 0.728, 'neu': 0.093, 'pos': 0.179}, 'XGBoost': {'neg': 0.882, 'neu': 0.056, 'pos': 0.062}, 'bert': {'neg': 0.999, 'neu': 0.001, 'pos': 0.0}, 'LSTM': {'neg': 0.081, 'neu': 0.062, 'pos': 0.857}}\n",
      "{'vader': {'neg': 0.0, 'neu': 0.508, 'pos': 0.492, 'compound': 0.947}, 'Logistic': {'neg': 0.002, 'neu': 0.012, 'pos': 0.986}, 'XGBoost': {'neg': 0.0, 'neu': 0.0, 'pos': 0.999}, 'bert': {'neg': 0.0, 'neu': 0.0, 'pos': 1.0}, 'LSTM': {'neg': 0.003, 'neu': 0.013, 'pos': 0.984}}\n",
      "{'vader': {'neg': 0.161, 'neu': 0.674, 'pos': 0.165, 'compound': 0.019}, 'Logistic': {'neg': 0.203, 'neu': 0.107, 'pos': 0.691}, 'XGBoost': {'neg': 0.149, 'neu': 0.137, 'pos': 0.714}, 'bert': {'neg': 0.017, 'neu': 0.976, 'pos': 0.008}, 'LSTM': {'neg': 0.643, 'neu': 0.296, 'pos': 0.06}}\n",
      "{'vader': {'neg': 0.0, 'neu': 0.722, 'pos': 0.278, 'compound': 0.66}, 'Logistic': {'neg': 0.051, 'neu': 0.053, 'pos': 0.895}, 'XGBoost': {'neg': 0.139, 'neu': 0.013, 'pos': 0.848}, 'bert': {'neg': 0.003, 'neu': 0.009, 'pos': 0.988}, 'LSTM': {'neg': 0.078, 'neu': 0.1, 'pos': 0.821}}\n",
      "{'vader': {'neg': 0.152, 'neu': 0.69, 'pos': 0.159, 'compound': 0.026}, 'Logistic': {'neg': 0.243, 'neu': 0.272, 'pos': 0.485}, 'XGBoost': {'neg': 0.337, 'neu': 0.458, 'pos': 0.204}, 'bert': {'neg': 0.036, 'neu': 0.959, 'pos': 0.005}, 'LSTM': {'neg': 0.733, 'neu': 0.22, 'pos': 0.047}}\n",
      "{'vader': {'neg': 0.327, 'neu': 0.579, 'pos': 0.094, 'compound': -0.704}, 'Logistic': {'neg': 0.237, 'neu': 0.524, 'pos': 0.238}, 'XGBoost': {'neg': 0.837, 'neu': 0.11, 'pos': 0.053}, 'bert': {'neg': 0.001, 'neu': 0.997, 'pos': 0.003}, 'LSTM': {'neg': 0.611, 'neu': 0.355, 'pos': 0.034}}\n",
      "{'vader': {'neg': 0.217, 'neu': 0.783, 'pos': 0.0, 'compound': -0.417}, 'Logistic': {'neg': 0.365, 'neu': 0.248, 'pos': 0.387}, 'XGBoost': {'neg': 0.138, 'neu': 0.558, 'pos': 0.304}, 'bert': {'neg': 0.998, 'neu': 0.002, 'pos': 0.0}, 'LSTM': {'neg': 0.017, 'neu': 0.041, 'pos': 0.943}}\n",
      "{'vader': {'neg': 0.0, 'neu': 0.559, 'pos': 0.441, 'compound': 0.796}, 'Logistic': {'neg': 0.219, 'neu': 0.128, 'pos': 0.653}, 'XGBoost': {'neg': 0.401, 'neu': 0.284, 'pos': 0.315}, 'bert': {'neg': 0.002, 'neu': 0.258, 'pos': 0.739}, 'LSTM': {'neg': 0.018, 'neu': 0.043, 'pos': 0.939}}\n"
     ]
    },
    {
     "ename": "IndexError",
     "evalue": "list index out of range",
     "output_type": "error",
     "traceback": [
      "\u001b[1;31m---------------------------------------------------------------------------\u001b[0m",
      "\u001b[1;31mIndexError\u001b[0m                                Traceback (most recent call last)",
      "\u001b[1;32md:\\github\\Sentiment-Analysis-BERT\\sample_client\\test_client.ipynb Cell 1\u001b[0m in \u001b[0;36m2\n\u001b[0;32m     <a href='vscode-notebook-cell:/d%3A/github/Sentiment-Analysis-BERT/sample_client/test_client.ipynb#W0sZmlsZQ%3D%3D?line=21'>22</a>\u001b[0m json_data \u001b[39m=\u001b[39m \u001b[39m\"\u001b[39m\u001b[39m\"\u001b[39m\n\u001b[0;32m     <a href='vscode-notebook-cell:/d%3A/github/Sentiment-Analysis-BERT/sample_client/test_client.ipynb#W0sZmlsZQ%3D%3D?line=22'>23</a>\u001b[0m count \u001b[39m=\u001b[39m \u001b[39m0\u001b[39m\n\u001b[1;32m---> <a href='vscode-notebook-cell:/d%3A/github/Sentiment-Analysis-BERT/sample_client/test_client.ipynb#W0sZmlsZQ%3D%3D?line=24'>25</a>\u001b[0m \u001b[39mwhile\u001b[39;00m sentences[count]\u001b[39m.\u001b[39mlower()\u001b[39m.\u001b[39mstrip() \u001b[39m!=\u001b[39m \u001b[39m\"\u001b[39m\u001b[39mbye\u001b[39m\u001b[39m\"\u001b[39m:\n\u001b[0;32m     <a href='vscode-notebook-cell:/d%3A/github/Sentiment-Analysis-BERT/sample_client/test_client.ipynb#W0sZmlsZQ%3D%3D?line=25'>26</a>\u001b[0m     client_socket\u001b[39m.\u001b[39msend(sentences[count]\u001b[39m.\u001b[39mencode())\n\u001b[0;32m     <a href='vscode-notebook-cell:/d%3A/github/Sentiment-Analysis-BERT/sample_client/test_client.ipynb#W0sZmlsZQ%3D%3D?line=26'>27</a>\u001b[0m     data \u001b[39m=\u001b[39m client_socket\u001b[39m.\u001b[39mrecv(\u001b[39m64000\u001b[39m)\u001b[39m.\u001b[39mdecode()\n",
      "\u001b[1;31mIndexError\u001b[0m: list index out of range"
     ]
    }
   ],
   "source": [
    "import json\n",
    "import socket\n",
    "\n",
    "HOST = \"127.0.0.1\"\n",
    "PORT = 10000\n",
    "\n",
    "client_socket = socket.socket()\n",
    "client_socket.connect((HOST, PORT))\n",
    "\n",
    "sentences = [\n",
    "    \"That suits me well. Can you check if they have live music, and also tell me how pricey are they?\",\n",
    "    \"3hours Late Flight - and now we need to wait TWENTY MORE MINUTES for a gate! I have patience but none for incompetence.\",\n",
    "    \"High quality pants. Very comfortable and great for sport activities. Good price for nice quality! I recommend to all fans of sports\",\n",
    "    \"The mobile app can be really glitchy and is definitely not user friendly\",\n",
    "    \"There is always someone available from their customer support team on live chat to help you\",\n",
    "    \"No specific type, I just need the area that it's in, please.\",\n",
    "    \"The plot was good, but the characters are uncompelling and the dialog is not great\",\n",
    "    \"No, you've made quite a mess of things as it is.\",\n",
    "    \"That sounds great! Could you help me make a reservation there?\"\n",
    "]\n",
    "\n",
    "json_data = \"\"\n",
    "count = 0\n",
    "\n",
    "while sentences[count].lower().strip() != \"bye\":\n",
    "    client_socket.send(sentences[count].encode())\n",
    "    data = client_socket.recv(64000).decode()\n",
    "    data = json.loads(data)\n",
    "    json_data = data\n",
    "    print(data)\n",
    "    client_socket.recv(64000).decode()\n",
    "    count += 1\n",
    "\n",
    "client_socket.close()"
   ]
  }
 ],
 "metadata": {
  "kernelspec": {
   "display_name": "Python 3.9.12 64-bit",
   "language": "python",
   "name": "python3"
  },
  "language_info": {
   "codemirror_mode": {
    "name": "ipython",
    "version": 3
   },
   "file_extension": ".py",
   "mimetype": "text/x-python",
   "name": "python",
   "nbconvert_exporter": "python",
   "pygments_lexer": "ipython3",
   "version": "3.9.12"
  },
  "orig_nbformat": 4,
  "vscode": {
   "interpreter": {
    "hash": "7ddf133b4eda059986521323f3292d266b4e97de12a5e96c4c9cf48956d966ac"
   }
  }
 },
 "nbformat": 4,
 "nbformat_minor": 2
}
